{
 "cells": [
  {
   "cell_type": "markdown",
   "metadata": {},
   "source": [
    "# Getting Started with Python and QuTiP #"
   ]
  },
  {
   "cell_type": "markdown",
   "metadata": {},
   "source": [
    "## Introduction ##"
   ]
  },
  {
   "cell_type": "markdown",
   "metadata": {},
   "source": [
    "Following [best practices for scientific computing](http://journals.plos.org/plosbiology/article?id=10.1371/journal.pbio.1001745), for this project it will be important for us to write our programs for people--- that is, such that they clearly communicate the relevant concepts and ideas.  For instance, consider the following three programs."
   ]
  },
  {
   "cell_type": "code",
   "execution_count": 1,
   "metadata": {
    "collapsed": false
   },
   "outputs": [
    {
     "name": "stdout",
     "output_type": "stream",
     "text": [
      "6\n"
     ]
    }
   ],
   "source": [
    "a = [1, 2, 3]\n",
    "c = 0\n",
    "for idx in xrange(len(a)):\n",
    "    c = c + a[idx]\n",
    "print c"
   ]
  },
  {
   "cell_type": "code",
   "execution_count": 2,
   "metadata": {
    "collapsed": false
   },
   "outputs": [
    {
     "name": "stdout",
     "output_type": "stream",
     "text": [
      "6\n"
     ]
    }
   ],
   "source": [
    "a = [1, 2, 3]\n",
    "c = 0\n",
    "for x in a:\n",
    "    c = c + x\n",
    "print c"
   ]
  },
  {
   "cell_type": "code",
   "execution_count": 3,
   "metadata": {
    "collapsed": false
   },
   "outputs": [
    {
     "name": "stdout",
     "output_type": "stream",
     "text": [
      "6\n"
     ]
    }
   ],
   "source": [
    "a = [1, 2, 3]\n",
    "c = sum(a)\n",
    "print c"
   ]
  },
  {
   "cell_type": "markdown",
   "metadata": {},
   "source": [
    "These are all valid Python programs, but which one most clearly communicates that ``c`` is supposed to hold the sum of all the elements of ``a``? Admittedly, this is a trivial example, but it illustrates a point that will be very important to us moving forward: working in a high-level language like Python, Julia, or R allows us to rely on very general functions like ``sum`` to write more expressive and clear programs."
   ]
  },
  {
   "cell_type": "markdown",
   "metadata": {},
   "source": [
    "In the case of quantum information, we can make a long way towards our goal of writing clear and expressive\n",
    "programs by relying on [QuTiP](http://qutip.org/) (quantum toolbox in Python). QuTiP provides a large range of tools for working with states, operators, channels and other quantum objects. We can use these to express our computations, rather than immediately having to worry with implementations."
   ]
  },
  {
   "cell_type": "markdown",
   "metadata": {},
   "source": [
    "In this tutorial, we'll cover the basics of how to get Python and QuTiP installed, as well as the basics of a particularly useful tool called Jupyter Notebook. Next time, we'll start using QuTiP itself."
   ]
  },
  {
   "cell_type": "markdown",
   "metadata": {},
   "source": [
    "## Installing Python and QuTiP ##\n",
    "\n",
    "On its own, Python is a nice language, but affords little in the way of scientific computing power. Instead, Python works together libraries like [NumPy](http://numpy.scipy.org), [SciPy](http://www.scipy.org), [scikit-learn](http://scikit-learn.org/stable/), and [IPython](http://ipython.org/). While one can install these libraries one-by-one, it is generally easier to use a *distribution* that includes Python along with a suite of other useful tools. In these notes, we will be using the [Anaconda](https://store.continuum.io/cshop/anaconda/) distribution, but other distributions exist that you may prefer instead, such as [Python(x,y)](https://code.google.com/p/pythonxy/) or [Enthought Canopy](https://www.enthought.com/products/canopy/).\n",
    "\n",
    "We'll also need to install QuTiP separately, since it is not yet included with common scientific distributions. Some QuTiP features require a compiler to generate native code for performance, so we will need to get that up and running as well. QuTiP is designed to work with [GCC](https://gcc.gnu.org/), so we'll use that. Broadly, then, we proceed in three steps:\n",
    "\n",
    "- Install Anaconda.\n",
    "- Install GCC.\n",
    "- Install QuTiP."
   ]
  },
  {
   "cell_type": "markdown",
   "metadata": {},
   "source": [
    "### Linux ###\n",
    "\n",
    "First, download the Python 2.7 version of [Anaconda](https://store.continuum.io/cshop/anaconda/). You'll likely want the 64-bit version, but check your machine to be sure. On the command line, use `cd` to navigate to where you downloaded the installer, then run `bash` to install Anaconda once it's downloaded:\n",
    "\n",
    "    $ bash Anaconda-2.3.0-Linux-x86_64.sh\n",
    "\n",
    "Agree to the license, then use the default installation path. The install should finish in a couple of minutes. You may have to quit the terminal and reopen it for changes to take effect. Once you do so, we'll use the Anaconda package manager, `conda`, to install a nice optional feature. If you installed Anaconda for all users, preface\n",
    "this command with `sudo`:\n",
    "\n",
    "    $ conda install launcher\n",
    "\n",
    "Next, we'll get GCC up and running. On Ubuntu, just use `apt-get`:\n",
    "\n",
    "    $ sudo apt-get install gcc\n",
    "\n",
    "Finally, we can use the Python package manager, `pip`, to get QuTiP itself:\n",
    "\n",
    "    $ pip install qutip\n",
    "\n",
    "Again, if you installed Anaconda for all users, you will need to preface `pip` with `sudo`.\n",
    "\n",
    "You can check that QuTiP installation worked by running the automated tests provided with the library:\n",
    "\n",
    "    $ nosetests qutip\n",
    "\n",
    "If everything worked correctly, then you should see a short report indicating that no tests have failed (some may be skipped, however)."
   ]
  },
  {
   "cell_type": "markdown",
   "metadata": {},
   "source": [
    "### Windows 8.1 ###\n",
    "\n",
    "**NOTE:** These instructions may work on Windows 7 or 10, but I've only tested on 8.1. Your milage may vary.\n",
    "\n",
    "First, download and run the installer for the Python 2.7 version of [Anaconda](https://store.continuum.io/cshop/anaconda/). You'll likely want the 64-bit version, but check your machine to be sure. Agree to the license, then use the default installation path. If possible, installing for all users may reduce some headaches. The install should finish in a couple of minutes. You may have to log out and back in for changes to take effect.\n",
    "\n",
    "Next, we'll get GCC up and running. This is, in general, a quite difficult task on 64-bit Windows, but thankfully Anaconda makes it easy for us. We'll use the `conda` package manager that comes with Anaconda to install a port of GCC for Windows called [MinGW](http://www.mingw.org/). Run either `cmd` or Windows PowerShell (recommended), and use the following command:\n",
    "\n",
    "    > conda install mingw libpython\n",
    "\n",
    "Once you have installed MinGW using this command, we need to point Python at it, rather than letting it default to Visual Studio. To do this, we'll need a text editor like [Sublime Text](http://www.sublimetext.com/3), [Atom](https://atom.io/download/windows) or [Visual Studio Code](https://code.visualstudio.com/). Using your favorite text editor, save the following snippet as ``C:\\Anaconda\\lib\\distutils\\distutils.cfg`` (note that your path may be different depending on where you installed Anaconda):\n",
    "\n",
    "    [build]\n",
    "    compiler = mingw32\n",
    "    [build_ext]\n",
    "    compiler = mingw32\n",
    "\n",
    "Finally, we can use the Python package manager, `pip`, to get QuTiP itself:\n",
    "\n",
    "    > pip install qutip\n",
    "\n",
    "You can check that QuTiP installation worked by running the automated tests provided with the library:\n",
    "\n",
    "    > nosetests qutip\n",
    "\n",
    "If everything worked correctly, then you should see a short report indicating that no tests have failed (some may be skipped, however)."
   ]
  },
  {
   "cell_type": "markdown",
   "metadata": {},
   "source": [
    "### OS X ###\n",
    "\n",
    "First, download and run the installer for the Python 2.7 version of [Anaconda](https://store.continuum.io/cshop/anaconda/). Agree to the license, then use the default installation path. If possible, installing for all users may reduce some headaches. The install should finish in a couple of minutes. You may have to log out and back in for changes to take effect.\n",
    "\n",
    "Next, we'll get GCC up and running. On OS X, GCC is shipped along with Xcode, so install that from the Mac App Store (if this seems like using a sledgehammer to drive in a nail, that's an accurate impression). Once Xcode has finished installing, open up a Terminal and run:\n",
    "\n",
    "    $ gcc\n",
    "\n",
    "Xcode should now prompt you to install GCC for use at the command-line. Follow the prompts to do this, and then try to run `gcc` again. You should get an error like the following:\n",
    "\n",
    "    $ gcc\n",
    "    gcc: fatal error: no input files\n",
    "    compilation terminated.\n",
    "\n",
    "Finally, we can use the Python package manager, `pip`, to get QuTiP itself:\n",
    "\n",
    "    $ pip install qutip\n",
    "    \n",
    "If you installed Anaconda for all users, you will need to preface `pip` with `sudo`.\n",
    "\n",
    "You can check that QuTiP installation worked by running the automated tests provided with the library:\n",
    "\n",
    "    $ nosetests qutip\n",
    "\n",
    "If everything worked correctly, then you should see a short report indicating that no tests have failed (some may be skipped, however)."
   ]
  },
  {
   "cell_type": "markdown",
   "metadata": {},
   "source": [
    "## Using Jupyter / IPython Notebook ##"
   ]
  },
  {
   "cell_type": "markdown",
   "metadata": {},
   "source": [
    "Now that we've got everything installed and ready, let's dive in. We'll be using the Jupyter Notebook interface (also known as IPython Notebook), which allows us to mix code, prose and figures in a straightforward notebook-style documents. In fact, this tutorial is written as an Jupyter Notebook!\n",
    "\n",
    "This idea might be familiar to you if you use Mathematica or if you've used literate programming tools, but if not, don't worry. Though Jupyter supports many languages other than Python (including JavaScript, F#, Ruby, R and Julia), we'll be focusing exclusively on Python for now."
   ]
  },
  {
   "cell_type": "markdown",
   "metadata": {},
   "source": [
    "The Anaconda Launcher program is installed with Anaconda and provides a portal for running Jupyter Notebook, IPython QtConsole and a couple other useful tools. To run it on Linux, run ``launcher``. To start Jupyter Notebook, press the Launch button next to \"ipython-notebook\" in Anaconda Launcher. This will open a new tab in your default web browser with a URL like ``http://localhost:8888/tree``."
   ]
  },
  {
   "cell_type": "markdown",
   "metadata": {},
   "source": [
    "This is because the Jupyter Notebook interface is delivered through your web browser, and is generated by a small web server running on your computer. While unconventional, delivering the user interface like this offers some really cool opportunities. For instance, it's easy to run Jupyter Notebook on one computer, then view it through another one using SSH. It's also easy to embed YouTube videos and other web-based resources into Notebooks. We won't cover these topics right now, but these features are part of what makes Jupyter Notebook cool."
   ]
  },
  {
   "cell_type": "markdown",
   "metadata": {},
   "source": [
    "Anyway, let's go on and create a new Notebook. From the new tab in your browser, navigate to a folder where you'd like to place your new Notebook, then press the **New** button in the upper-right and select the *Python 2* option under Notebooks. This will open a new tab with a blank Notebook. Let's give the new Notebook a meaningful name; click where it says \"Untitled\" and you'll be prompted to rename it. Having done that, save (Ctrl-S or the save icon) the Notebook, and let's start using it."
   ]
  },
  {
   "cell_type": "markdown",
   "metadata": {},
   "source": [
    "We'll get to meaningful code later, but for now, let's try a simple example. Click on the gray rectangle marked ``In [ ]:`` to select it; this is an *input cell*, and is where we will enter in Python code. Type in the following, then press Ctrl+Enter to run that cell:\n",
    "\n",
    "    x = 2\n",
    "    \n",
    "Notice that the prompt has now changed to ``In [1]``, and a new input cell has been created below. Use it to display the new value of ``x``:\n",
    "\n",
    "    x\n",
    "   \n",
    "Press Ctrl-Enter again and you should see ``Out[2]: 2`` appear below the second input cell, telling you what the value assigned to ``x`` was. You can use any Python expression in this way. Try a few different things, and see what happens!"
   ]
  },
  {
   "cell_type": "markdown",
   "metadata": {},
   "source": [
    "We'll get to more compilicated coding examples later, but for now let's switch gears a bit and start using Jupyter Notebook to write some text and mathematics as well. After all, when we write more compilcated code, we'll need to attach some explanations. In Jupyter Notebook, you can make [Markdown](http://daringfireball.net/projects/markdown/) cells along with input cells to hold text and mathematics. To get started, select a cell in your Notebook and press **Ctrl-M A**. This means to press **Ctrl-M**, then let go of **Ctrl** and **M**, then press **A** alone immediately after. Most Jupyter Notebook shortcuts are **Ctrl-M** followed by a second key, as pressing **Ctrl-M** or **Esc** enters *command mode*. If you want to see a list of available keyboard shortcuts, press **Ctrl-M H** (for \"help\").\n",
    "\n",
    "This should create a new empty input cell above (hence **A**) the current cell. Select it, and press **Ctrl-M M** to change it to a Markdown cell. You should see the dropdown menu to the left of *Cell Toolbar* change to reflect this, and the ``In [ ]:`` prompt should disappear.\n",
    "\n",
    "Start writing whatever text you like in the new cell. Asterisks (\\*) denote italic text, as in ``*et al.*``, while bold text is written using double asterisks (\\*\\*). Make hyperlinks by writing the link text in square brackets and the URL in parens, as in ``[Google](http://www.google.com)``. Math can be included by using dollar signs (\\$) to delimit TeX notation (Stack Exchange users have contributed [a nice tutorial](http://meta.math.stackexchange.com/questions/5020/mathjax-basic-tutorial-and-quick-reference) on the variant of TeX notation used by Jupyter Notebook)."
   ]
  },
  {
   "cell_type": "markdown",
   "metadata": {},
   "source": [
    "We'll get to more compilicated examples later, but let's finish for now by exporting your new notebook to HTML. From the File menu, select *Download as* → *HTML*. Your browser will download an HTML version of your new Notebook that can be used without running Jupyter Notebook.  If you have [Pandoc](http://johnmacfarlane.net/pandoc/) installed, you can use the same menu to download a PDF generated using LaTeX. Running ``ipython nbconvert`` from the command line gives you a lot more options, including making custom templates and including citations. See the [documentation](https://ipython.org/ipython-doc/3/notebook/nbconvert.html) for more information, or the [examples](https://github.com/ipython/nbconvert-examples) posted to GitHub."
   ]
  }
 ],
 "metadata": {
  "kernelspec": {
   "display_name": "Python 2",
   "language": "python",
   "name": "python2"
  },
  "language_info": {
   "codemirror_mode": {
    "name": "ipython",
    "version": 2
   },
   "file_extension": ".py",
   "mimetype": "text/x-python",
   "name": "python",
   "nbconvert_exporter": "python",
   "pygments_lexer": "ipython2",
   "version": "2.7.8"
  }
 },
 "nbformat": 4,
 "nbformat_minor": 0
}
