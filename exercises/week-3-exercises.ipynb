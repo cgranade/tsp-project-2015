{
 "cells": [
  {
   "cell_type": "markdown",
   "metadata": {},
   "source": [
    "## TSP 2015 QuTiP Exercises: Week 3 ##\n",
    "$\\newcommand{\\ket}[1]{\\left|#1\\right\\rangle}\n",
    "\\newcommand{\\braket}[1]{\\left\\langle#1\\right\\rangle}\n",
    "\\newcommand{\\bra}[1]{\\left\\langle#1\\right|}$"
   ]
  },
  {
   "cell_type": "markdown",
   "metadata": {},
   "source": [
    "## Exercise 1 ##\n",
    "\n",
    "Let $\\ket{\\psi} = \\ket{0}$, $\\ket{\\phi} = \\ket{+} \\mathrel{:=} \\frac{1}{\\sqrt{2}} (\\ket{0} + \\ket{1})$, $M_0 = \\ket{0}\\bra{0}$ and $M_1 = \\ket{1}\\bra{1}$."
   ]
  },
  {
   "cell_type": "markdown",
   "metadata": {},
   "source": [
    "a) Write these in matrix form and as QuTiP calls."
   ]
  },
  {
   "cell_type": "markdown",
   "metadata": {},
   "source": [
    "b) Show that $\\{M_0, M_1\\}$ is a measurement. (If you feel so inclined, it's a useful exercise to write a function which checks this for any list of operators.)"
   ]
  },
  {
   "cell_type": "markdown",
   "metadata": {},
   "source": [
    "c) What distribution do you get by measuring $\\ket{\\psi}$ with $\\{M_0, M_1\\}$?"
   ]
  },
  {
   "cell_type": "markdown",
   "metadata": {},
   "source": [
    "d) What distribution do you get by measuring $\\ket{\\phi}$ with $\\{M_0, M_1\\}$?"
   ]
  },
  {
   "cell_type": "markdown",
   "metadata": {},
   "source": [
    "e) Find a unitary $U$ such that $\\ket{\\phi} = U\\ket{\\psi}$."
   ]
  },
  {
   "cell_type": "markdown",
   "metadata": {},
   "source": [
    "## Exercise 2 ##\n",
    "\n",
    "Let $H = \\omega \\sigma_z$ for $\\omega$ a real number of your choice."
   ]
  },
  {
   "cell_type": "markdown",
   "metadata": {},
   "source": [
    "a) Write a function to compute $U(t) = e^{-i H t}$."
   ]
  },
  {
   "cell_type": "markdown",
   "metadata": {},
   "source": [
    "b) Compute $\\ket{\\phi(t)} = U(t) \\ket{+}$."
   ]
  },
  {
   "cell_type": "markdown",
   "metadata": {},
   "source": [
    "c) Compute and plot $\\left|\\braket{+ | \\phi(t)} \\right|^2$. If you feel motivated, write this as a measurement."
   ]
  }
 ],
 "metadata": {
  "kernelspec": {
   "display_name": "Python 2",
   "language": "python",
   "name": "python2"
  },
  "language_info": {
   "codemirror_mode": {
    "name": "ipython",
    "version": 2
   },
   "file_extension": ".py",
   "mimetype": "text/x-python",
   "name": "python",
   "nbconvert_exporter": "python",
   "pygments_lexer": "ipython2",
   "version": "2.7.8"
  }
 },
 "nbformat": 4,
 "nbformat_minor": 0
}
