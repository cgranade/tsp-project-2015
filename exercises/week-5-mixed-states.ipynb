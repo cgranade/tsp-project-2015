{
 "cells": [
  {
   "cell_type": "markdown",
   "metadata": {},
   "source": [
    "## TSP 2015 QuTiP Exercises: Week 5 ##"
   ]
  },
  {
   "cell_type": "markdown",
   "metadata": {
    "collapsed": true
   },
   "source": [
    "In the past several weeks, we've gone through a lot of material on preparing and measuring quantum states. Here, we'll practice extending that to cover ensembles of pure states as described by Nielsen and Chuang §2.4–5."
   ]
  },
  {
   "cell_type": "markdown",
   "metadata": {},
   "source": [
    "## Exercise 1: Mixed State Likelihoods ##"
   ]
  },
  {
   "cell_type": "markdown",
   "metadata": {},
   "source": [
    "Instead of the likelihood function $\\Pr(\\phi | \\psi) = \\left|\\left\\langle\\phi | \\psi\\right\\rangle\\right|^2$, we'll practice with the generalization to mixed states, $\\Pr(E | \\rho) = \\operatorname{Tr}(E \\rho)$ for a measurement effect $E$ and a mixed state $\\rho$.\n",
    "\n",
    "1. Using QuTiP's ``rand_ket`` function to generate examples, show that these two likelihood functions agree for $E = \\left|\\phi\\right\\rangle\\left\\langle\\phi\\right|$. Write a function that raises an error if the two likelihoods disagree.\n",
    "2. What is the probability of measuring $\\left|0\\right\\rangle\\left\\langle0\\right|$ for the mixed state $\\rho = \\mathbb{1} / 2$? Explain why this agrees with what you know from the likelihood function for pure states.\n",
    "\n",
    "**Note:** In QuTiP 3.1.0, ``rand_ket`` samples states in an ad-hoc manner; we'll later see a more formal way to do this known as the Haar distribution. Support for Haar-random states and unitaries has been added to QuTiP 3.2.0, which should come out some time soon. If you're already using QuTiP 3.2 or later, please feel free to use ``rand_ket_haar`` instead."
   ]
  },
  {
   "cell_type": "markdown",
   "metadata": {},
   "source": [
    "## Exercise 2: Entanglement and Partial Traces ##"
   ]
  },
  {
   "cell_type": "markdown",
   "metadata": {},
   "source": [
    "Part of the reason that mixed states are useful is that they allow us to reason about *parts* of a quantum system. This is particularly important if you have entanglement.\n",
    "\n",
    "1. Consider a two-qubit state $\\left|\\psi\\right\\rangle = \\left|0\\right\\rangle\\left|0\\right\\rangle$. Write this as a mixed state, then find the state after partial tracing over the second qubit.\n",
    "2. Consider a Bell state (as used in the superdense coding exercise last week). Write this as a mixed state, then find the state after partial tracing over Bob's qubit.\n",
    "3. Calculate the purity of each of these two states.\n",
    "4. Let $\\left|GHZ\\right\\rangle = \\left|000\\right\\rangle + \\left|111\\right\\rangle$ and $\\left|W\\right\\rangle = \\left|100\\right\\rangle + \\left|010\\right\\rangle + \\left|001\\right\\rangle$. What is the purity after tracing over the second and third qubits?"
   ]
  }
 ],
 "metadata": {
  "kernelspec": {
   "display_name": "Python 2",
   "language": "python",
   "name": "python2"
  },
  "language_info": {
   "codemirror_mode": {
    "name": "ipython",
    "version": 2
   },
   "file_extension": ".py",
   "mimetype": "text/x-python",
   "name": "python",
   "nbconvert_exporter": "python",
   "pygments_lexer": "ipython2",
   "version": "2.7.10"
  }
 },
 "nbformat": 4,
 "nbformat_minor": 0
}
